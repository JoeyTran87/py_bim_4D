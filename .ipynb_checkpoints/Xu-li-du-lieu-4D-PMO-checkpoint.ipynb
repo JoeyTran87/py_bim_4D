{
 "cells": [
  {
   "cell_type": "code",
   "execution_count": 3,
   "id": "9882588b-130d-460f-8363-f293bf7447f1",
   "metadata": {},
   "outputs": [],
   "source": [
    "import pandas as pd"
   ]
  },
  {
   "cell_type": "code",
   "execution_count": 4,
   "id": "ea22911d-09bc-4ff1-bf71-66580d76e029",
   "metadata": {},
   "outputs": [
    {
     "name": "stdin",
     "output_type": "stream",
     "text": [
      "Excel Path:  F:\\_NGHIEN CUU\\_Github\\py_bim_4D\\XLSX\\BIM EZ 211009 (1).xlsx\n"
     ]
    }
   ],
   "source": [
    "exce_path = input(\"Excel Path: \")#r\"F:\\_NGHIEN CUU\\_Github\\py_bim_4D\\XLSX\\BIM EZ 211009 (1).xlsx\""
   ]
  },
  {
   "cell_type": "code",
   "execution_count": 6,
   "id": "43a6a8b9",
   "metadata": {},
   "outputs": [
    {
     "name": "stdout",
     "output_type": "stream",
     "text": [
      "0 : Việt Mỹ\n",
      "1 : SAMSUNG R&D\n",
      "2 : ACCREDO\n"
     ]
    },
    {
     "data": {
      "text/plain": [
       "[None, None, None]"
      ]
     },
     "execution_count": 6,
     "metadata": {},
     "output_type": "execute_result"
    }
   ],
   "source": [
    "excel = pd.ExcelFile(exce_path)\n",
    "sheet_names = excel.sheet_names\n",
    "[print(f\"{i} : {name}\") for i,name in enumerate (sheet_names)]"
   ]
  },
  {
   "cell_type": "code",
   "execution_count": 7,
   "id": "45b2be91",
   "metadata": {},
   "outputs": [
    {
     "name": "stdin",
     "output_type": "stream",
     "text": [
      "Chọn số hiệu tên Sheet 0\n"
     ]
    },
    {
     "name": "stdout",
     "output_type": "stream",
     "text": [
      "Việt Mỹ\n"
     ]
    }
   ],
   "source": [
    "while True:\n",
    "    sheet_number = input(\"Chọn số hiệu tên Sheet\")\n",
    "    try:\n",
    "        sheet_name = sheet_names[int(sheet_number)]\n",
    "        if sheet_name in sheet_names:\n",
    "            print(sheet_name)\n",
    "            break\n",
    "    except:\n",
    "        pass"
   ]
  },
  {
   "cell_type": "code",
   "execution_count": null,
   "id": "0660c4df-fac6-460a-96db-529d5374db17",
   "metadata": {},
   "outputs": [],
   "source": [
    "df = pd.read_excel()"
   ]
  }
 ],
 "metadata": {
  "interpreter": {
   "hash": "23300995598eec4bcf6bd89cf02d1c3675e8b2616661418dbbf5580aa901878d"
  },
  "kernelspec": {
   "display_name": "Python 3",
   "language": "python",
   "name": "python3"
  },
  "language_info": {
   "codemirror_mode": {
    "name": "ipython",
    "version": 3
   },
   "file_extension": ".py",
   "mimetype": "text/x-python",
   "name": "python",
   "nbconvert_exporter": "python",
   "pygments_lexer": "ipython3",
   "version": "3.9.1"
  }
 },
 "nbformat": 4,
 "nbformat_minor": 5
}
